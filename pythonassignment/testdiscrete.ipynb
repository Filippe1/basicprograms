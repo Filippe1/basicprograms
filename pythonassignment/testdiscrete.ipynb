{
 "cells": [
  {
   "cell_type": "code",
   "execution_count": 7,
   "metadata": {},
   "outputs": [
    {
     "name": "stdout",
     "output_type": "stream",
     "text": [
      "there are 3 multiple choice questions, each question has 5 different answers, \n",
      "only one answer can be chosen from each question. There are 125 different combinations of answers (we do not consider order)\n",
      "\n",
      "there are 5 different marbles, from these marbles you choose 3 of them. \n",
      "There are 10 different combinations of marbles you can pick.\n",
      "\n",
      "you randomly distribute 3 cookies between 5 classmates (can also be distributed unfairly)\n",
      "There are 35 different distributions that could be made.\n",
      "\n",
      "you want to put 3 books on the shelves that are selected from 5 different books. \n",
      "There are 60 different distributions that could be made.\n"
     ]
    }
   ],
   "source": [
    "import math as m\n",
    "\n",
    "\n",
    "def power(n, k):\n",
    "    return int(n ** k)\n",
    "\n",
    "\n",
    "def choose(n, k):\n",
    "    return int(m.comb(n, k))\n",
    "\n",
    "def repetition(n, k):\n",
    "    num = (m.factorial(n + k - 1))\n",
    "    denom = (m.factorial(k))*(m.factorial(n - 1))\n",
    "    return int(num / denom)\n",
    "\n",
    "def perm(n, k):\n",
    "    return int(m.perm(n,k))\n",
    "\n",
    "\n",
    "nint = str(5)\n",
    "kint = str(3)\n",
    "\n",
    "first = str(power(5, 3))\n",
    "#perm(4, 2)\n",
    "snd = str(choose(5, 3))\n",
    "\n",
    "trd = str(repetition(5, 3))\n",
    "\n",
    "four = str(perm(5, 3))\n",
    "\n",
    "textone = f'''there are {kint} multiple choice questions, each question has {nint} different answers, \n",
    "only one answer can be chosen from each question. There are {first} different combinations of answers (we do not consider order)''' \n",
    "\n",
    "textwo = f'''there are {nint} different marbles, from these marbles you choose {kint} of them. \n",
    "There are {snd} different combinations of marbles you can pick.''' \n",
    "\n",
    "textree = f'''you randomly distribute {kint} cookies between {nint} classmates (can also be distributed unfairly)\n",
    "There are {trd} different distributions that could be made.''' \n",
    "\n",
    "textfour = f'''you want to put {kint} books on the shelves that are selected from {nint} different books. \n",
    "There are {four} different distributions that could be made.''' \n",
    "\n",
    "print(textone)\n",
    "print()\n",
    "print(textwo)\n",
    "print()\n",
    "print(textree)\n",
    "print()\n",
    "print(textfour)"
   ]
  }
 ],
 "metadata": {
  "kernelspec": {
   "display_name": "Python 3",
   "language": "python",
   "name": "python3"
  },
  "language_info": {
   "codemirror_mode": {
    "name": "ipython",
    "version": 3
   },
   "file_extension": ".py",
   "mimetype": "text/x-python",
   "name": "python",
   "nbconvert_exporter": "python",
   "pygments_lexer": "ipython3",
   "version": "3.11.9"
  }
 },
 "nbformat": 4,
 "nbformat_minor": 2
}
